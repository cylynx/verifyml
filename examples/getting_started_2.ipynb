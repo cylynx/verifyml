{
 "cells": [
  {
   "cell_type": "markdown",
   "metadata": {},
   "source": [
    "# Create sample data"
   ]
  },
  {
   "cell_type": "code",
   "execution_count": 1,
   "metadata": {},
   "outputs": [
    {
     "name": "stdout",
     "output_type": "stream",
     "text": [
      "      age  truth  prediction\n",
      "0   26-39      0           1\n",
      "1   40-64      1           1\n",
      "2   26-39      0           1\n",
      "3   40-64      1           1\n",
      "4   40-64      1           0\n",
      "..    ...    ...         ...\n",
      "95  26-39      1           0\n",
      "96   >=65      0           0\n",
      "97  26-39      0           0\n",
      "98  40-64      1           0\n",
      "99   >=65      0           1\n",
      "\n",
      "[100 rows x 3 columns]\n"
     ]
    }
   ],
   "source": [
    "import pandas as pd\n",
    "import numpy as np\n",
    "\n",
    "# define some constants\n",
    "NUM_ROWS = 100\n",
    "AGE_GROUPS = ['26-39', '40-64', '>=65']\n",
    "\n",
    "# set a seed to get the same set of randomly-generated data every time\n",
    "np.random.seed(0)\n",
    "\n",
    "# create the dataframe and insert the columns\n",
    "df = pd.DataFrame()\n",
    "df['age'] = np.random.choice(AGE_GROUPS, NUM_ROWS)\n",
    "df['truth'] = np.random.randint(2, size=NUM_ROWS)\n",
    "df['prediction'] = np.random.randint(2, size=NUM_ROWS)\n",
    "\n",
    "print(df)"
   ]
  },
  {
   "cell_type": "markdown",
   "metadata": {},
   "source": [
    "# Create and run a Model Test"
   ]
  },
  {
   "cell_type": "code",
   "execution_count": 2,
   "metadata": {},
   "outputs": [
    {
     "data": {
      "text/plain": [
       "True"
      ]
     },
     "execution_count": 2,
     "metadata": {},
     "output_type": "execute_result"
    }
   ],
   "source": [
    "from verifyml.model_tests.FEAT import SubgroupDisparity\n",
    "\n",
    "sgd_test = SubgroupDisparity(\n",
    "    attr='age',\n",
    "    metric='fpr',\n",
    "    method='ratio',\n",
    "    threshold=2,  \n",
    ")\n",
    "sgd_test.run(df)"
   ]
  },
  {
   "cell_type": "markdown",
   "metadata": {},
   "source": [
    "# Check out the results"
   ]
  },
  {
   "cell_type": "code",
   "execution_count": 3,
   "metadata": {},
   "outputs": [
    {
     "data": {
      "text/plain": [
       "True"
      ]
     },
     "execution_count": 3,
     "metadata": {},
     "output_type": "execute_result"
    }
   ],
   "source": [
    "sgd_test.passed"
   ]
  },
  {
   "cell_type": "code",
   "execution_count": 4,
   "metadata": {},
   "outputs": [
    {
     "data": {
      "text/html": [
       "<div>\n",
       "<style scoped>\n",
       "    .dataframe tbody tr th:only-of-type {\n",
       "        vertical-align: middle;\n",
       "    }\n",
       "\n",
       "    .dataframe tbody tr th {\n",
       "        vertical-align: top;\n",
       "    }\n",
       "\n",
       "    .dataframe thead th {\n",
       "        text-align: right;\n",
       "    }\n",
       "</style>\n",
       "<table border=\"1\" class=\"dataframe\">\n",
       "  <thead>\n",
       "    <tr style=\"text-align: right;\">\n",
       "      <th></th>\n",
       "      <th>age_fpr_max_ratio</th>\n",
       "    </tr>\n",
       "  </thead>\n",
       "  <tbody>\n",
       "    <tr>\n",
       "      <th>0</th>\n",
       "      <td>1.571</td>\n",
       "    </tr>\n",
       "  </tbody>\n",
       "</table>\n",
       "</div>"
      ],
      "text/plain": [
       "   age_fpr_max_ratio\n",
       "0              1.571"
      ]
     },
     "execution_count": 4,
     "metadata": {},
     "output_type": "execute_result"
    }
   ],
   "source": [
    "sgd_test.result"
   ]
  },
  {
   "cell_type": "markdown",
   "metadata": {},
   "source": [
    "# Create a stricter test"
   ]
  },
  {
   "cell_type": "code",
   "execution_count": 5,
   "metadata": {},
   "outputs": [
    {
     "data": {
      "text/plain": [
       "False"
      ]
     },
     "execution_count": 5,
     "metadata": {},
     "output_type": "execute_result"
    }
   ],
   "source": [
    "sgd_test_strict = SubgroupDisparity(\n",
    "    attr='age',\n",
    "    metric='fpr',\n",
    "    method='ratio',\n",
    "    threshold=1.57,\n",
    ")\n",
    "\n",
    "sgd_test_strict.run(df)"
   ]
  },
  {
   "cell_type": "code",
   "execution_count": 6,
   "metadata": {},
   "outputs": [
    {
     "data": {
      "text/plain": [
       "False"
      ]
     },
     "execution_count": 6,
     "metadata": {},
     "output_type": "execute_result"
    }
   ],
   "source": [
    "sgd_test_strict.passed"
   ]
  },
  {
   "cell_type": "code",
   "execution_count": 7,
   "metadata": {},
   "outputs": [
    {
     "data": {
      "text/html": [
       "<div>\n",
       "<style scoped>\n",
       "    .dataframe tbody tr th:only-of-type {\n",
       "        vertical-align: middle;\n",
       "    }\n",
       "\n",
       "    .dataframe tbody tr th {\n",
       "        vertical-align: top;\n",
       "    }\n",
       "\n",
       "    .dataframe thead th {\n",
       "        text-align: right;\n",
       "    }\n",
       "</style>\n",
       "<table border=\"1\" class=\"dataframe\">\n",
       "  <thead>\n",
       "    <tr style=\"text-align: right;\">\n",
       "      <th></th>\n",
       "      <th>age_fpr_max_ratio</th>\n",
       "    </tr>\n",
       "  </thead>\n",
       "  <tbody>\n",
       "    <tr>\n",
       "      <th>0</th>\n",
       "      <td>1.571</td>\n",
       "    </tr>\n",
       "  </tbody>\n",
       "</table>\n",
       "</div>"
      ],
      "text/plain": [
       "   age_fpr_max_ratio\n",
       "0              1.571"
      ]
     },
     "execution_count": 7,
     "metadata": {},
     "output_type": "execute_result"
    }
   ],
   "source": [
    "sgd_test_strict.result"
   ]
  },
  {
   "cell_type": "code",
   "execution_count": 8,
   "metadata": {},
   "outputs": [
    {
     "data": {
      "image/png": "[encoded data removed]",
      "text/plain": [
       "<Figure size 864x432 with 1 Axes>"
      ]
     },
     "metadata": {
      "needs_background": "light"
     },
     "output_type": "display_data"
    }
   ],
   "source": [
    "sgd_test.plot()"
   ]
  },
  {
   "cell_type": "markdown",
   "metadata": {},
   "source": [
    "# Init a Model Card"
   ]
  },
  {
   "cell_type": "code",
   "execution_count": 9,
   "metadata": {},
   "outputs": [],
   "source": [
    "import verifyml.model_card_toolkit as mctlib\n",
    "\n",
    "mct = mctlib.ModelCardToolkit(\n",
    "  output_dir='model_card_output',\n",
    "  file_name='first_model_card'\n",
    ")\n",
    "# init model card assets using the toolkit\n",
    "model_card = mct.scaffold_assets()\n",
    "\n",
    "model_card.model_details.name = 'Credit Card Fraud Detection Model'\n",
    "model_card.model_details.overview = 'This model predicts whether credit card transactions are fraudulent.'"
   ]
  },
  {
   "cell_type": "markdown",
   "metadata": {},
   "source": [
    "# Attach the test to the Model Card"
   ]
  },
  {
   "cell_type": "code",
   "execution_count": 10,
   "metadata": {},
   "outputs": [],
   "source": [
    "# a model-card-compatible test object \n",
    "mc_sgd_test = mctlib.Test()\n",
    "mc_sgd_test.read_model_test(sgd_test)\n",
    "\n",
    "# a fairness report\n",
    "report = mctlib.FairnessReport(\n",
    "    type=\"Disparity in FPR ratio between age groups should not exceed 2\", \n",
    "    tests=[mc_sgd_test]\n",
    ")\n",
    "\n",
    "# attach the report to the model card\n",
    "model_card.fairness_analysis.fairness_reports = [report]\n",
    "\n",
    "# update card with changes\n",
    "mct.update_model_card(model_card)"
   ]
  },
  {
   "cell_type": "markdown",
   "metadata": {},
   "source": [
    "# Display the Model Card"
   ]
  },
  {
   "cell_type": "code",
   "execution_count": 11,
   "metadata": {},
   "outputs": [
    {
     "data": {
      "text/html": [
       "<!DOCTYPE html>\n",
       "\n",
       "\n",
       "\n",
       "\n",
       "\n",
       "\n",
       "\n",
       "\n",
       "\n",
       "\n",
       "\n",
       "\n",
       "\n",
       "\n",
       "\n",
       "\n",
       "<html lang=\"en\">\n",
       "<head>\n",
       "<style>\n",
       "  h1 {text-align: center;}\n",
       "  .row {\n",
       "    display: flex;\n",
       "  }\n",
       "  .col {\n",
       "    flex: 1;\n",
       "    align-items: center; \n",
       "    justify-content: center;\n",
       "  }\n",
       "  .card {\n",
       "    padding: 1em;\n",
       "    border: 1px solid #DADCE0;\n",
       "    margin: 10px;\n",
       "  }\n",
       "  .card .card {\n",
       "    padding: 0.5em;\n",
       "    padding-bottom: 0em;\n",
       "    border: none;\n",
       "  }\n",
       "  .img-container {\n",
       "    display: flex;\n",
       "    flex-wrap: wrap;\n",
       "    justify-content: space-around;\n",
       "    text-align: center;\n",
       "  }\n",
       "  .img-item {\n",
       "    flex: 1;\n",
       "  }\n",
       "  .center {\n",
       "    margin-left: auto;\n",
       "    margin-right: auto;\n",
       "    text-align: center;\n",
       "  }\n",
       "  table, th, td { border: 1px solid black; }\n",
       "  th, td { border: 1px solid #CCC; height: 30px; }\n",
       "  caption { font-weight: bold; }\n",
       "</style>\n",
       "<title>\n",
       "  Model Card for Credit Card Fraud Detection Model\n",
       "</title>\n",
       "</head>\n",
       "<body>\n",
       "  <h1>\n",
       "    Model Card for Credit Card Fraud Detection Model\n",
       "  </h1>\n",
       "    <div class=\"row\">\n",
       "      <div class=\"col card\">\n",
       "        <h2>Model Details</h2>\n",
       "          <h3>Overview</h3>\n",
       "              This model predicts whether credit card transactions are fraudulent.\n",
       "          \n",
       "          \n",
       "          \n",
       "          \n",
       "          \n",
       "          \n",
       "          \n",
       "        </div>\n",
       "      \n",
       "      \n",
       "    </div>\n",
       "    \n",
       "    \n",
       "    \n",
       "    \n",
       "      \n",
       "<div class=\"col card\">\n",
       "  <h2>Fairness Analysis</h2>\n",
       "  \n",
       "    \n",
       "      \n",
       "<div class=\"col card\">\n",
       "  <h3>Disparity in FPR ratio between age groups should not exceed 2  </h3>\n",
       "  \n",
       "  \n",
       "  \n",
       "  \n",
       "    \n",
       "      \n",
       "<div class=\"col card\">\n",
       "  \n",
       "  <h4> Subgroup Disparity Test </h4>\n",
       "  \n",
       "  \n",
       "  <div>\n",
       "    <b> Description: </b>\n",
       "    Test if the maximum ratio of the false postive rate of any 2\n",
       "groups within age attribute exceeds 2. To\n",
       "pass, this value cannot exceed the threshold. \n",
       "  </div>\n",
       "  \n",
       "  \n",
       "  <div>\n",
       "    <b> Threshold: </b>\n",
       "    2 \n",
       "  </div>\n",
       "  \n",
       "  \n",
       "  <div>\n",
       "    <b> Result: </b>\n",
       "    \n",
       "    \n",
       "      \n",
       "<table>\n",
       "\n",
       "  \n",
       "    \n",
       "      <tr>\n",
       "      \n",
       "      \n",
       "      <td></td>\n",
       "      \n",
       "      <td>age_fpr_max_ratio</td>\n",
       "      \n",
       "      </tr>\n",
       "    \n",
       "  \n",
       "    \n",
       "      <tr>\n",
       "      \n",
       "      \n",
       "      <td>0</td>\n",
       "      \n",
       "      <td>1.571</td>\n",
       "      \n",
       "      </tr>\n",
       "    \n",
       "  \n",
       "    \n",
       "  \n",
       "</table>\n",
       "\n",
       "    \n",
       "  </div>\n",
       "  \n",
       "   \n",
       "    <div><b style=\"color:green;\"> Passed</b></div> \n",
       "    \n",
       "  \n",
       "    \n",
       "  <div class=\"row\">\n",
       "    <div class=\"col\">\n",
       "      \n",
       "      \n",
       "  <div class=\"img-container\">\n",
       "  \n",
       "  \n",
       "    <div class=\"img-item\">\n",
       "      <img src='data:image/jpeg;base64,iVBORw0KGgoAAAANSUhEUgAAAsIAAAF1CAYAAADiNYyJAAAAOXRFWHRTb2Z0d2FyZQBNYXRwbG90\n",
       "bGliIHZlcnNpb24zLjQuMywgaHR0cHM6Ly9tYXRwbG90bGliLm9yZy/MnkTPAAAACXBIWXMAAAsT\n",
       "AAALEwEAmpwYAAAfa0lEQVR4nO3de7xldV3/8dcbBrxyUWdULsPFBHOiUhtRs3RSU24BZRkXJc0k\n",
       "/YVlYoRaipiF+kuLBJPUNAQR8DYJhfUTpIsggyAJiM1vAGe4/LjIVUIEPr8/1vfI5njOzBlmnznD\n",
       "fF/Px+M8Hnuv9V1rfdbae5/93t/9XXulqpAkSZJ6s8lcFyBJkiTNBYOwJEmSumQQliRJUpcMwpIk\n",
       "SeqSQViSJEldMghLkiSpSwZhqSNJzknyO3Ndx+okOTjJl1cz/xeTXLE+a9LGIcknkvzZXNchacNh\n",
       "EJYeppJcleR/ktw58rftHNRxTpK72/ZvSvK5JNs81PVV1UlV9dKR9VeSp47M/7eqetq61j1ZkqOS\n",
       "/LDtx61J/jPJ89Zi+QfVKUna8BmEpYe3X6mqx478XTtHdRxWVY8FdgW2Bj44R3Wsq8+0/ZgPnA2c\n",
       "Nsf1jE2STee6ho1JknlzXYOkdWcQljYiSR6X5EtJbkxyS7u9/TRtn5rkq0luaz25nxmZ95NJ/iXJ\n",
       "95JckeQVM9l+VX0P+CywW1vPzye5oG3jgiQ/P7KNVydZkeSOJFcmOXhk+r+32+e25t9sPbW/mWRJ\n",
       "klVt/h8nOX3Sfv11kmPb7a2SfCzJdUmuSfJnMwmEVXUvcBKwXZIFbV27J/la6y2+LsmHkmw+XZ1t\n",
       "+j5JLh7pYf6ZkTr/uNV0RzvGL56qliR7J7koye1JViY5atL8X2jrvrXNf3Wb/okkH05yZpLvA7+U\n",
       "5OmtB//WJJcm2XdkPXsluazVc02St7Tp89vz6Nb2fPi3JFO+d7Rjv7LVemGSXxyZ96gkn2zPy8uT\n",
       "HDHxOLb52yb5bHvuXpnk96d7fFZT64+eOyNtJ/fUz2/P7Tva83/HkbYvbY/FbUmOb/N/Z2Td/5Hk\n",
       "g0luBo5qz69/aDVfneRPJo5Nhm8YPjWy7p1aLfPa/XOS/EWSr7fj9cUkj2/zHpnkU0lubsf9giRP\n",
       "mu54SHroDMLSxmUT4O+BHYEdgP8BPjRN23cDXwYeB2wP/A1AkscA/wKcDDwROAA4PsmiNW08yXzg\n",
       "5cBF7U39DOBY4AnAB4AzkjyhbeNYYM+q2gL4eeDiyeurqhe0mz/berw/M6nJKcBeSbZo298UeEWr\n",
       "HeATwL3AU4FnAi8F1jhGugXcQ4CbgVva5PuAP2ToLX4e8GLgf01XZ5JnAh8Hfrft/0eApUkekeRp\n",
       "wGHAs9v+vwy4appyvt9q2RrYG3hDkv1bnTsC/8Tw2C0AnsGDj+NBwHuALYDzgX9keMyfCLwROKnV\n",
       "AvAx4HdbPbsBX2nTDwdWtfU/CXgbUNPUekGr4fEMj8FpSR7Z5r0T2Al4CvDLwCsnFmrh8R+BbwLb\n",
       "MRzbNyV52TTbma7WmTiY4bk/n+FYndRqmA+cDryV4fG6guF5Oeo5wAqG4/AehuO+VdunFzI8Tq9Z\n",
       "i1oOAX4b2IbheXpsm/5bbb0LWy2vZ3gtSxozg7D08PaF1mN0a5IvVNXNVfXZqrqrqu5geLN+4TTL\n",
       "/pAhMG9bVXdX1URP2j7AVVX191V1b1VdxNDL+xurqePYJLcyBJnrgDczhLb/rqoT23o+DXwb+JW2\n",
       "zP3AbkkeVVXXVdWla7vzVXU18A3gV9ukFwF3VdV5rQdtL+BNVfX9qrqBYcjGAatZ5SvafvwP8Drg\n",
       "11vvMFV1YVWd1/blKoZgO92xBTgU+EhVnV9V91XVJ4EfAM9lCNWPABYl2ayqrqqq/zvNPp5TVf9V\n",
       "VfdX1SXAp0e2exDwr1X16ar6YXv8Lx5Z/ItV9R9VdT9DQH0scExV3VNVXwG+BBzY2v6w1bNlVd1S\n",
       "Vd8Ymb4NsGPbxr9V1ZRBuKo+1Wq4t6r+su3jRNB+BfDnbd2reCD0ATwbWFBVR7faVgB/x/SP1XS1\n",
       "zsQZVXVuVf0AeDvwvCQLGZ4rl1bV59pjfixw/aRlr62qv2nz72n1vbWq7mjPib8EXrUWtZxYVd+q\n",
       "qu8Df8rw/Nu07d8TgKe2586FVXX7WqxX0gwZhKWHt/2rauv2t3+SRyf5SPua9nbgXGDrTD0c4Agg\n",
       "wNfb1+S/3abvCDxnJGDfytCL9uTV1PH7rYbtqurgqroR2Ba4elK7q4Ht2hv/bzL0dF2X5IwkP/kQ\n",
       "j8HJPBDmDuKB3uAdgc3a+if24yMMvaHTObWqtmbo8fsW8HMTM5Ls2oYIXN+O7Z8z9CpOZ0fg8EnH\n",
       "cSHDB4/lwJuAo4AbkpySaU50TPKcJGe3r99vYzhmE9tdCEwZoJuVI7e3BVa2UDzhaoYeWBh68vcC\n",
       "rm5DAiZOFHw/sBz4coahLEdOt7Ekb2nDHm5r+7vVSK3bTqpn9PaOwLaTjtXbGB6HqUxX60z8aLtV\n",
       "dSfwvVbbtpPmFUNP+JTLMuzXZjz4OT56PNeqlrbsZm29JwJnAackuTbJ+5JsthbrlTRDBmFp43I4\n",
       "Qw/cc6pqS2DiK/tMblhV11fV66pqW4av749vYylXAl8dCdhbt6/737CWtVzLEHBG7QBc07Z/VlX9\n",
       "MkNv47cZegAfitOAJRnGQv8qDwThlQw9sPNH9mPLqvqpNa2wqm5i6NE9Kg/8AsaHW527tGP7NqY4\n",
       "riNWAu+ZdBwf3XrGqaqTq+oXGI5RAe+dZj0nA0uBhVW1FfC3I9tdCfzE6nZl5Pa1wMI8eHzv6ONx\n",
       "QVXtx/BB4QvAqW36HVV1eFU9BdgXeHOmGM+cYTzwEQw9v49rHyhuG6n1OoYhOBMWjtxeCVw56Vht\n",
       "UVV7TblT09TKMIzk0SM1TfXhbeHI/McyDOO4dnJ9STKpXnjw8byJB75VmfCj4zm5Fqb+IDl6DHZo\n",
       "67up9by/q6oWMQzP2IdhGIWkMTMISxuXLRi+1r+1jdF953QNk/xGHjiR7haGN/n7Gb4u3zXJq5Js\n",
       "1v6eneTpa1nLmW09ByWZl+EEskXAl5I8Kcl+bazwD4A727an8v8YxmBOqfU+n8MwNvrKqrq8Tb+O\n",
       "YTzsXybZMskmSX4iyeqGM4yu9wqGXrkj2qQtgNuBO1vv9eQPBpPr/Dvg9a1HN0kek+HEty2SPC3J\n",
       "i5I8Arib4TGbbv+3AL5XVXcn2Z2h13vCScBLkryiHeMnJHnGNOs5H7gLOKI9pksYhqmckmTzDL/f\n",
       "vFVV/bDt5/3woxP+ntqC4W0MwzqmqnULhnGuNwLzkrwD2HJk/qnAWzOc0LkdwxjpCV8H7shwAuGj\n",
       "kmyaZLckz568kdXVyjA056eSPCPD2OSjpqhzrwwnGG7OMFb4vKpayTCe/aeT7J/hhLbfYzXfglTV\n",
       "fW2f3tMe0x0ZhgRNnCB3MfCCJDsk2Yph7PFkr0yyKMmjgaOB06vqviS/lOSn2zc5tzME5OmeH5LW\n",
       "gUFY2rj8FfAoht6q84B/Xk3bZwPnJ7mTocfxD6pqRQ1ji1/KMP7xWoZxku9lGO85Y1V1M0NP1uEM\n",
       "J50dAezTels3YQgN1zJ8Nf1CfjxYTjgK+GT7yny6X684GXgJD/QGTzgE2By4jCHsn87QAz1T7wcO\n",
       "TfJE4C0MIfQOhpA7+cS9B9VZVcsYxhl/qG17OfDq1vYRwDEMj9P1DD2bUwUlGE7IOzrJHcA7eKD3\n",
       "k6r6LsMQgcMZjuPFwM9OtZKquoch+O7Ztns8cEhVfbs1eRVwVRv28XqG4TAAuwD/yvBh5WvA8VV1\n",
       "9hSbOIvh+fYdhq/57+bBX/0fzTDU4Mq2vtMZPgRNhMp9GMYxX9nq+yjD0IqpTFlrVX2nbedfgf8G\n",
       "/n2KZU9m+ID4PYahL69sy97EMA7+fQzP10XAsokap/FGhp7fFW1bJzOcIElV/QvDc+QS4EKGD5iT\n",
       "nchwQuf1wCOBiV/KeDLD8bkduBz4amsracwyzTkPkiTNmiRvAA6oqhn10K9vbQjJKuDgaYL/uq7/\n",
       "HOBTVfXRca9b0szZIyxJmnVJtkny/DZE5WkMvdifn+u6RiV5WZKt25CViTHg581xWZJmkVfGkSSt\n",
       "D5sz/GrHzsCtDL8BffxcFjSF5zEMb5gYTrN/Vfn7vdJGzKERkiRJ6tIah0Yk+XiSG5J8a5r5SXJs\n",
       "kuVJLknyrPGXKUmSJI3XTMYIfwLYYzXz92Q4q3gXht/d/PC6lyVJkiTNrjWOEa6qc5PstJom+wH/\n",
       "0K7Cc1470WCb9hue05o/f37ttNPqVitJkiStuwsvvPCmqlowefo4Tpbbjgf/VuSqNu3HgnCSQxl6\n",
       "jdlhhx1YtmzZGDYvSZIkTS/J1VNNX68/n1ZVJ1TV4qpavGDBj4VySZIkab0ZRxC+hgdfL317HrjW\n",
       "uiRJkrRBGkcQXgoc0n494rnAbWsaHyxJkiTNtTWOEU7yaWAJMD/JKoZrtG8GUFV/C5zJcK375cBd\n",
       "wGtmq1hJkiRpXGbyqxEHrmF+Ab83tookSZKk9WC9niwnSZIkbSgMwpIkSeqSQViSJEldMghLkiSp\n",
       "SwZhSZIkdckgLEmSpC4ZhCVJktQlg7AkSZK6ZBCWJEkClixZwpIlS+a6DK1HBmFJkiR1ySAsSZKk\n",
       "LhmEJUmS1CWDsCRJkrpkEJYkSVKXDMKSJEnqkkFYkiRJXTIIS5IkqUsGYUmSJHXJICxJkqQuGYQl\n",
       "SZLUJYOwJEmSumQQliRJUpcMwpIkSeqSQViSJEldMghLkiSpSwZhSZIkdckgLEmSpC4ZhCVJktQl\n",
       "g7AkSZK6ZBCWJElSlwzCkiRJ6pJBWJIkSV0yCEuSJKlLBmFJkiR1ySAsSZKkLhmEJUmS1CWDsCRJ\n",
       "krpkEJYkSVKXDMKSJEnqkkFYkiRJXTIIS5IkqUsGYUmSJHXJICxJkqQuGYQlSZLUJYOwJEmSumQQ\n",
       "1lgsWbKEJUuWzHUZkiRJM2YQliRJUpcMwpIkSeqSQViSJEldMghLkiSpSwZhSZIkdckgLEmSpC4Z\n",
       "hCVJktQlg7AkSZK6ZBCWJElSlwzCkiRJ6tKMgnCSPZJckWR5kiOnmL9DkrOTXJTkkiR7jb9USZIk\n",
       "aXzWGISTbAocB+wJLAIOTLJoUrM/AU6tqmcCBwDHj7tQSZIkaZxm0iO8O7C8qlZU1T3AKcB+k9oU\n",
       "sGW7vRVw7fhKlCRJksZvJkF4O2DlyP1Vbdqoo4BXJlkFnAm8caoVJTk0ybIky2688caHUK4kSZI0\n",
       "HuM6We5A4BNVtT2wF3Bikh9bd1WdUFWLq2rxggULxrRpSZIkae3NJAhfAywcub99mzbqtcCpAFX1\n",
       "NeCRwPxxFChJkiTNhpkE4QuAXZLsnGRzhpPhlk5q813gxQBJns4QhB37IEmSpA3WGoNwVd0LHAac\n",
       "BVzO8OsQlyY5Osm+rdnhwOuSfBP4NPDqqqrZKlqSJElaV/Nm0qiqzmQ4CW502jtGbl8GPH+8pUmS\n",
       "JEmzxyvLSZIkqUsGYUmSJHXJICxJkqQuGYQlSZLUJYOwJEmSumQQliRJUpcMwpIkSeqSQViSJEld\n",
       "MghLkiSpSwZhSZIkdckgLEmSpC4ZhCVJktQlg7AkSZK6ZBCWJElSlwzCkiRJ6pJBWJIkSV2aN9cF\n",
       "SJKktbPTkWfMdQkbpetX3Ax4fGfLVcfsPdcl/Bh7hCVJktQlg7AkSZK6ZBCWJElSlwzCkvQwsWTJ\n",
       "EpYsWTLXZUjSRsMgLEmSpC4ZhCVJktQlg7AkSZK6ZBCWJElSlwzCkiRJ6pJBWJIkSV0yCEuSJKlL\n",
       "BmFJkiR1ySAsSZKkLhmEJUmS1CWDsCRJkrpkEJYkSVKXDMKSJEnqkkFYkiRJXTIIS5IkqUsGYUmS\n",
       "JHVp3lwXMBd2OvKMuS5ho3P9ipsBj+1sueqYvee6BEmSNjr2CEuSJKlLBmFJkiR1ySAsSZKkLhmE\n",
       "JUmS1CWDsCRJkrpkEJYkSVKXDMKSJEnqkkFYkiRJXTIIS5IkqUsGYUmSJHXJICxJkqQuGYQlSZLU\n",
       "JYOwJEmSumQQliRJUpcMwpIkSeqSQViSJEldMghLkiSpSwZhSZIkdWlGQTjJHkmuSLI8yZHTtHlF\n",
       "ksuSXJrk5PGWKUmSJI3XvDU1SLIpcBzwy8Aq4IIkS6vqspE2uwBvBZ5fVbckeeJsFSxJkiSNw0x6\n",
       "hHcHllfViqq6BzgF2G9Sm9cBx1XVLQBVdcN4y5QkSZLGayZBeDtg5cj9VW3aqF2BXZP8R5Lzkuwx\n",
       "1YqSHJpkWZJlN95440OrWJIkSRqDcZ0sNw/YBVgCHAj8XZKtJzeqqhOqanFVLV6wYMGYNi1JkiSt\n",
       "vZkE4WuAhSP3t2/TRq0CllbVD6vqSuA7DMFYkiRJ2iDNJAhfAOySZOckmwMHAEsntfkCQ28wSeYz\n",
       "DJVYMb4yJUmSpPFaYxCuqnuBw4CzgMuBU6vq0iRHJ9m3NTsLuDnJZcDZwB9V1c2zVbQkSZK0rtb4\n",
       "82kAVXUmcOakae8YuV3Am9ufJEmStMHzynKSJEnqkkFYkiRJXTIIS5IkqUsGYUmSJHXJICxJkqQu\n",
       "GYQlSZLUJYOwJEmSumQQliRJUpcMwpIkSeqSQViSJEldMghLkiSpSwZhSZIkdckgLEmSpC4ZhCVJ\n",
       "ktQlg7AkSZK6ZBCWJElSlwzCkiRJ6pJBWJIkSV0yCEuSJKlLBmFJkiR1ySAsSZKkLhmEJUmS1CWD\n",
       "sCRJkro0b64LkCRJ2hA8+aBj5roErWf2CEuSJKlLBmFJkiR1ySAsSZKkLhmEJUmS1CWDsCRJkrpk\n",
       "EJYkSVKX/Pk0jYU/OSNJkh5u7BGWJElSlwzCkiRJ6pJBWJIkSV0yCEuSJKlLBmFJkiR1ySAsSZKk\n",
       "LvnzaZLGbqcjz5jrEjZK16+4GfD4zparjtl7rkuQtJ7ZIyxJkqQuGYQlSZLUJYOwJEmSumQQliRJ\n",
       "UpcMwpIkSeqSQViSJEldMghLkiSpSwZhSZIkdckgLEmSpC4ZhCVJktQlg7AkSZK6ZBCWJElSlwzC\n",
       "kiRJ6pJBWJIkSV0yCEuSJKlLBmFJkiR1ySAsSZKkLhmEJUmS1KUZBeEkeyS5IsnyJEeupt3Lk1SS\n",
       "xeMrUZIkSRq/NQbhJJsCxwF7AouAA5MsmqLdFsAfAOePu0hJkiRp3GbSI7w7sLyqVlTVPcApwH5T\n",
       "tHs38F7g7jHWJ0mSJM2KmQTh7YCVI/dXtWk/kuRZwMKqOmN1K0pyaJJlSZbdeOONa12sJEmSNC7r\n",
       "fLJckk2ADwCHr6ltVZ1QVYuravGCBQvWddOSJEnSQzaTIHwNsHDk/vZt2oQtgN2Ac5JcBTwXWOoJ\n",
       "c5IkSdqQzSQIXwDskmTnJJsDBwBLJ2ZW1W1VNb+qdqqqnYDzgH2ratmsVCxJkiSNwRqDcFXdCxwG\n",
       "nAVcDpxaVZcmOTrJvrNdoCRJkjQb5s2kUVWdCZw5ado7pmm7ZN3LkiRJkmaXV5aTJElSlwzCkiRJ\n",
       "6pJBWJIkSV0yCEuSJKlLBmFJkiR1ySAsSZKkLhmEJUmS1CWDsCRJkrpkEJYkSVKXDMKSJEnqkkFY\n",
       "kiRJXTIIS5IkqUsGYUmSJHXJICxJkqQuGYQlSZLUJYOwJEmSumQQliRJUpcMwpIkSeqSQViSJEld\n",
       "MghLkiSpSwZhSZIkdckgLEmSpC4ZhCVJktQlg7AkSZK6ZBCWJElSlwzCkiRJ6pJBWJIkSV0yCEuS\n",
       "JKlLBmFJkiR1ySAsSZKkLhmEJUmS1CWDsCRJkrpkEJYkSVKXDMKSJEnqkkFYkiRJXTIIS5IkqUsG\n",
       "YUmSJHXJICxJkqQuGYQlSZLUJYOwJEmSumQQliRJUpcMwpIkSeqSQViSJEldMghLkiSpSwZhSZIk\n",
       "dckgLEmSpC4ZhCVJktQlg7AkSZK6ZBCWJElSlwzCkiRJ6pJBWJIkSV0yCEuSJKlLBmFJkiR1ySAs\n",
       "SZKkLs2b6wIkSTPz5IOOmesSJGmjMqMe4SR7JLkiyfIkR04x/81JLktySZL/k2TH8ZcqSZIkjc8a\n",
       "g3CSTYHjgD2BRcCBSRZNanYRsLiqfgY4HXjfuAuVJEmSxmkmPcK7A8urakVV3QOcAuw32qCqzq6q\n",
       "u9rd84Dtx1umJEmSNF4zCcLbAStH7q9q06bzWuCf1qUoSZIkabaN9WS5JK8EFgMvnGb+ocChADvs\n",
       "sMM4Ny1JkiStlZn0CF8DLBy5v32b9iBJXgK8Hdi3qn4w1Yqq6oSqWlxVixcsWPBQ6pUkSZLGYiZB\n",
       "+AJglyQ7J9kcOABYOtogyTOBjzCE4BvGX6YkSZI0XmsMwlV1L3AYcBZwOXBqVV2a5Ogk+7Zm7wce\n",
       "C5yW5OIkS6dZnSRJkrRBmNEY4ao6Ezhz0rR3jNx+yZjrkiRJkmaVl1iWJElSlwzCkiRJ6pJBWJIk\n",
       "SV0yCEuSJKlLBmFJkiR1ySAsSZKkLhmEJUmS1CWDsCRJkrpkEJYkSVKXDMKSJEnqkkFYkiRJXTII\n",
       "S5IkqUsGYUmSJHXJICxJkqQuGYQlSZLUJYOwJEmSumQQliRJUpcMwpIkSeqSQViSJEldMghLkiSp\n",
       "SwZhSZIkdckgLEmSpC4ZhCVJktQlg7AkSZK6ZBCWJElSlwzCkiRJ6pJBWJIkSV0yCEuSJKlLBmFJ\n",
       "kiR1ySAsSZKkLhmEJUmS1CWDsCRJkrpkEJYkSVKXDMKSJEnqkkFYkiRJXTIIS5IkqUsGYUmSJHXJ\n",
       "ICxJkqQuGYQlSZLUJYOwJEmSumQQliRJUpcMwpIkSeqSQViSJEldMghLkiSpSwZhSZIkdckgLEmS\n",
       "pC4ZhCVJktQlg7AkSZK6ZBCWJElSlwzCkiRJ6pJBWJIkSV0yCEuSJKlLBmFJkiR1ySAsSZKkLhmE\n",
       "JUmS1CWDsCRJkro0oyCcZI8kVyRZnuTIKeY/Isln2vzzk+w09kolSZKkMVpjEE6yKXAcsCewCDgw\n",
       "yaJJzV4L3FJVTwU+CLx33IVKkiRJ4zSTHuHdgeVVtaKq7gFOAfab1GY/4JPt9unAi5NkfGVKkiRJ\n",
       "4zWTILwdsHLk/qo2bco2VXUvcBvwhHEUKEmSJM2GeetzY0kOBQ5td+9McsX63L5m3XzgprkuYmMU\n",
       "BxvpAb7OZomvMzW+xmbJHL/Gdpxq4kyC8DXAwpH727dpU7VZlWQesBVw8+QVVdUJwAkzqVYPP0mW\n",
       "VdXiua5D2pj5OpNml6+xvsxkaMQFwC5Jdk6yOXAAsHRSm6XAb7Xbvw58papqfGVKkiRJ47XGHuGq\n",
       "ujfJYcBZwKbAx6vq0iRHA8uqainwMeDEJMuB7zGEZUmSJGmDFTtuNS5JDm3DXyTNEl9n0uzyNdYX\n",
       "g7AkSZK65CWWJUmS1CWDsKaUZGGSs5NcluTSJH8wMu+NSb7dpr9vmuXfneSSJBcn+XKSbdv0xyX5\n",
       "fJv39SS7ra99kjZESTZNclGSL7X7O7dL1S9vl67ffJrlNk9yQpLvtNfjyyfNf3mSSuLZ79I6SLKk\n",
       "vZddmuSrI9OvSvJfbd6yuaxRD51DIzSlJNsA21TVN5JsAVwI7A88CXg7sHdV/SDJE6vqhimW37Kq\n",
       "bm+3fx9YVFWvT/J+4M6qeleSnwSOq6oXr6/9kjY0Sd4MLAa2rKp9kpwKfK6qTknyt8A3q+rDUyz3\n",
       "LmDTqvqTJJsAj6+qm9q8LYAzgM2Bw6rKN2l1KcnjquqWdVh+a+A/gT2q6ruj73lJrgIWT7zu9PBk\n",
       "j7CmVFXXVdU32u07gMsZriD4BuCYqvpBm/djIbhNv33k7mOAiU9ci4CvtDbfBnZK8qRZ2QlpA5dk\n",
       "e2Bv4KPtfoAXMVyqHoZL1+8/zeK/DfwFQFXdP+nN+N3Ae4G7x1+19LCyLMlJSV7UXl9r6yCGD6bf\n",
       "henf8/TwZRDWGiXZCXgmcD6wK/CL7avbryZ59mqWe0+SlcDBwDva5G8Cv9bm785wpZftZ7F8aUP2\n",
       "V8ARwP3t/hOAW9ul6mHqS9pP9FIBvDvJN5KcNvGBMsmzgIVVdcZsFi49TOwKfBo4DLgsydsmhuoB\n",
       "JPlgG9ow+e/IkeUfl+ScJBcmOWRk3QV8uU0/FD0sGYS1WkkeC3wWeFPr5Z0HPB54LvBHwKnTfcqu\n",
       "qrdX1ULgJIZ/QgDHAFsnuRh4I3ARcN+s7oS0AUqyD3BDVV34EBafx/AB8j+r6lnA14D/3YZIfAA4\n",
       "fHyVSg9fVXVfVX2pqn4NeAHwFOC7rSOGqvrDqnrGFH/HtFXMA36O4ZublwF/mmTXNu8X2utvT+D3\n",
       "krxgve6cxmIml1hWp5JsxhCCT6qqz7XJqxi+Jirg60nuB+a3k+aeCVxbVXtNWtVJwJnAO1uYfk1b\n",
       "f4ArgRWzvzfSBuf5wL5J9gIeCWwJ/DXDB8V5rVd4e+CaJJsyjNOH4Uqe7wTuAiZel6cBrwW2AHYD\n",
       "zmmfT58MLE2yr+OE1askWzFc6OvVwD0Mw4ouafM+CPzSFIud0sLwKuDmqvo+8P0k5wI/C3ynqq6B\n",
       "YbhEks8DuwPnzvLuaMwMwppSC6kfAy6vqg+MzPoCwz+Ns9un4s2Bm6rqNZOW36Wq/rvd3Q/4dpu+\n",
       "NXBXVd0D/A5w7qTxxFIXquqtwFthOCsdeEtVHZzkNIZL1Z/CcOn6L1bVfcAzRpdP8o/AEoYx9y8G\n",
       "Lquq24D5I23Oaes1BKtLST4FPI/hw+IhI+9LwNAjvIZVfBH4UJJ5DO93zwE+mOQxwCZVdUe7/VLg\n",
       "6LHvgGadQVjTeT7wKuC/2jAGgLcBHwc+nuRbDJ+sf6um/umRY5I8jWHs49XA69v0pwOfTFLApQy9\n",
       "WJIe8MfAKUn+jGHo0MdW0+7EJH8F3Ej7pkXSg5wKvHpk3P1aqarLk/wzQw/y/cBHq+pbSZ4CfL59\n",
       "8zIPOLmq/nlcRWv98efTJEmS1CVPlpMkSVKXDMKSJEnqkkFYkiRJXTIIS5IkqUsGYUmSJHXJICxJ\n",
       "kqQuGYQlSZLUJYOwJEmSuvT/AVjOdudrhpnjAAAAAElFTkSuQmCC\n",
       "' alt='False Positive Rates across age subgroups' />\n",
       "    </div>\n",
       "  \n",
       "  </div>\n",
       "    \n",
       "    </div>\n",
       "  </div>\n",
       "\n",
       "  \n",
       "</div>\n",
       "\n",
       "    \n",
       "  \n",
       "</div>\n",
       "\n",
       "    \n",
       "  \n",
       "</div>\n",
       "\n",
       "    \n",
       "</body>\n",
       "</html>"
      ],
      "text/plain": [
       "<IPython.core.display.HTML object>"
      ]
     },
     "execution_count": 11,
     "metadata": {},
     "output_type": "execute_result"
    }
   ],
   "source": [
    "from IPython.display import HTML\n",
    "\n",
    "html = mct.export_format(output_file='first_model_card.html')\n",
    "\n",
    "# display the HTML in the notebook\n",
    "HTML(html)"
   ]
  }
 ],
 "metadata": {
  "interpreter": {
   "hash": "5bc6f454f3240022643add09d2a444c32d1e87639854cd632b2872b8e9d573f5"
  },
  "kernelspec": {
   "display_name": "Python 3.8.12 64-bit ('verifyml': conda)",
   "language": "python",
   "name": "python3"
  },
  "language_info": {
   "codemirror_mode": {
    "name": "ipython",
    "version": 3
   },
   "file_extension": ".py",
   "mimetype": "text/x-python",
   "name": "python",
   "nbconvert_exporter": "python",
   "pygments_lexer": "ipython3",
   "version": "3.8.12"
  },
  "orig_nbformat": 4
 },
 "nbformat": 4,
 "nbformat_minor": 2
}
